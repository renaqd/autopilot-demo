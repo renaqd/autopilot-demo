{
 "cells": [
  {
   "cell_type": "code",
   "execution_count": null,
   "id": "361f5126-fbbd-4087-a2c6-a94e5cafe357",
   "metadata": {},
   "outputs": [],
   "source": [
    "# Upload CSV files to S3\n",
    "import boto3\n",
    "import sagemaker\n",
    "import os\n",
    "\n",
    "import warnings\n",
    "warnings.filterwarnings('ignore')"
   ]
  },
  {
   "cell_type": "code",
   "execution_count": null,
   "id": "46e8add5-bc77-404e-8fd6-4b52c295ef0e",
   "metadata": {},
   "outputs": [],
   "source": [
    "# Initialize SageMaker session and get role\n",
    "sagemaker_session = sagemaker.Session()\n",
    "role = sagemaker.get_execution_role()\n",
    "region = boto3.Session().region_name"
   ]
  },
  {
   "cell_type": "code",
   "execution_count": null,
   "id": "583a82c1-0179-46d7-ba5d-3bb41fef94e5",
   "metadata": {},
   "outputs": [],
   "source": [
    "# Use the specific bucket instead of the default one\n",
    "bucket = \"ld-autopilot-demo599\"  # Specific bucket name\n",
    "sm = boto3.Session().client(service_name=\"sagemaker\", region_name=region)"
   ]
  },
  {
   "cell_type": "code",
   "execution_count": null,
   "id": "61cd158f-fd38-4755-96f4-4b1547bb9c3a",
   "metadata": {},
   "outputs": [],
   "source": [
    "# Display the bucket we're working with\n",
    "print(f\"Using S3 bucket: {bucket}\")"
   ]
  },
  {
   "cell_type": "code",
   "execution_count": null,
   "id": "be15e425-5cae-49bc-8a2e-0f0344daf9aa",
   "metadata": {},
   "outputs": [],
   "source": [
    "# verify we can access the bucket\n",
    "!aws s3 ls s3://{bucket}/"
   ]
  },
  {
   "cell_type": "code",
   "execution_count": null,
   "id": "e551bfc5-9958-40fd-b9fc-ad092c41fb60",
   "metadata": {},
   "outputs": [],
   "source": [
    "# Create a dedicated prefix for our data files\n",
    "s3_prefix = \"\"\n",
    "!aws s3api put-object --bucket {bucket} --key {s3_prefix}"
   ]
  },
  {
   "cell_type": "code",
   "execution_count": null,
   "id": "278115a6-4045-4302-81e6-31049550c068",
   "metadata": {},
   "outputs": [],
   "source": [
    "# Set path to the local data directory\n",
    "local_data_path = \"../data/\"  # notebook is in data_management folder"
   ]
  },
  {
   "cell_type": "code",
   "execution_count": null,
   "id": "36e263a2-8e68-4104-bead-a8e9bf28579d",
   "metadata": {},
   "outputs": [],
   "source": [
    "# Use os.walk to find all CSV files in the data directory and its subfolders\n",
    "print(\"\\nCSV files to be uploaded:\")\n",
    "csv_files = []\n",
    "\n",
    "for root, dirs, files in os.walk(local_data_path):\n",
    "    for file in files:\n",
    "        if file.endswith(\".csv\"):\n",
    "            file_path = os.path.join(root, file)\n",
    "            relative_path = os.path.relpath(file_path, local_data_path)\n",
    "            csv_files.append((file_path, relative_path))\n",
    "            print(f\"Found: {file_path}\")\n",
    "\n",
    "if not csv_files:\n",
    "    print(\"No CSV files found in the data directory or its subfolders.\")"
   ]
  },
  {
   "cell_type": "code",
   "execution_count": null,
   "id": "b27986bf-1a47-45eb-b0b7-4eeebcb66d84",
   "metadata": {},
   "outputs": [],
   "source": [
    "# Upload all CSV files from the data directory and its subfolders to S3\n",
    "print(\"\\nUploading files to S3...\")\n",
    "for local_file_path, relative_path in csv_files:\n",
    "    # Preserve the subfolder structure in S3\n",
    "    s3_file_key = f\"{s3_prefix}{relative_path}\"\n",
    "    \n",
    "    # Upload without ACL since the bucket doesn't support it\n",
    "    print(f\"Uploading {local_file_path} to s3://{bucket}/{s3_file_key}\")\n",
    "    !aws s3 cp {local_file_path} s3://{bucket}/{s3_file_key}"
   ]
  },
  {
   "cell_type": "code",
   "execution_count": null,
   "id": "41b0f3b1-cbae-4e22-8e0b-b74abec14532",
   "metadata": {},
   "outputs": [],
   "source": [
    "# Check source path\n",
    "!aws s3 ls s3://ld-autopilot-demo599/"
   ]
  },
  {
   "cell_type": "code",
   "execution_count": null,
   "id": "d6567d02-0b4a-45fd-a1d3-9900490a9008",
   "metadata": {},
   "outputs": [],
   "source": [
    "# Check public bucket files\n",
    "!aws s3 ls s3://ld-autopilot-demo599/ --recursive"
   ]
  }
 ],
 "metadata": {
  "kernelspec": {
   "display_name": "Python 3 (ipykernel)",
   "language": "python",
   "name": "python3"
  },
  "language_info": {
   "codemirror_mode": {
    "name": "ipython",
    "version": 3
   },
   "file_extension": ".py",
   "mimetype": "text/x-python",
   "name": "python",
   "nbconvert_exporter": "python",
   "pygments_lexer": "ipython3",
   "version": "3.11.11"
  }
 },
 "nbformat": 4,
 "nbformat_minor": 5
}
